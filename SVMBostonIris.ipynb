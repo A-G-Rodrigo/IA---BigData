{
  "cells": [
    {
      "cell_type": "code",
      "execution_count": null,
      "metadata": {
        "colab": {
          "base_uri": "https://localhost:8080/"
        },
        "id": "lpsQdjSTqSKj",
        "outputId": "420dcc72-366c-4007-fcff-fb15ca064b23"
      },
      "outputs": [
        {
          "output_type": "stream",
          "name": "stderr",
          "text": [
            "/usr/local/lib/python3.8/dist-packages/sklearn/utils/deprecation.py:87: FutureWarning: Function load_boston is deprecated; `load_boston` is deprecated in 1.0 and will be removed in 1.2.\n",
            "\n",
            "    The Boston housing prices dataset has an ethical problem. You can refer to\n",
            "    the documentation of this function for further details.\n",
            "\n",
            "    The scikit-learn maintainers therefore strongly discourage the use of this\n",
            "    dataset unless the purpose of the code is to study and educate about\n",
            "    ethical issues in data science and machine learning.\n",
            "\n",
            "    In this special case, you can fetch the dataset from the original\n",
            "    source::\n",
            "\n",
            "        import pandas as pd\n",
            "        import numpy as np\n",
            "\n",
            "\n",
            "        data_url = \"http://lib.stat.cmu.edu/datasets/boston\"\n",
            "        raw_df = pd.read_csv(data_url, sep=\"\\s+\", skiprows=22, header=None)\n",
            "        data = np.hstack([raw_df.values[::2, :], raw_df.values[1::2, :2]])\n",
            "        target = raw_df.values[1::2, 2]\n",
            "\n",
            "    Alternative datasets include the California housing dataset (i.e.\n",
            "    :func:`~sklearn.datasets.fetch_california_housing`) and the Ames housing\n",
            "    dataset. You can load the datasets as follows::\n",
            "\n",
            "        from sklearn.datasets import fetch_california_housing\n",
            "        housing = fetch_california_housing()\n",
            "\n",
            "    for the California housing dataset and::\n",
            "\n",
            "        from sklearn.datasets import fetch_openml\n",
            "        housing = fetch_openml(name=\"house_prices\", as_frame=True)\n",
            "\n",
            "    for the Ames housing dataset.\n",
            "    \n",
            "  warnings.warn(msg, category=FutureWarning)\n"
          ]
        }
      ],
      "source": [
        "from sklearn.svm import SVC\n",
        "from sklearn.svm import SVR\n",
        "import matplotlib.pyplot as plt\n",
        "from sklearn.model_selection import train_test_split\n",
        "from sklearn.model_selection import cross_val_score\n",
        "from sklearn.metrics import confusion_matrix\n",
        "from sklearn.metrics import classification_report\n",
        "from sklearn.metrics import max_error\n",
        "from sklearn.metrics import mean_absolute_error\n",
        "from sklearn.metrics import mean_squared_error\n",
        "from sklearn.metrics import r2_score\n",
        "\n",
        "from sklearn.datasets import load_iris\n",
        "from sklearn.datasets import load_boston\n",
        "\n",
        "import seaborn as sns\n",
        "iris = load_iris()\n",
        "X, y = load_iris(return_X_y=True)\n",
        "bos = load_boston()\n",
        "X1, y1 = load_boston(return_X_y=True)\n"
      ]
    },
    {
      "cell_type": "code",
      "execution_count": null,
      "metadata": {
        "id": "DRTbG6G4q8XZ"
      },
      "outputs": [],
      "source": [
        "import matplotlib.pyplot as plt\n",
        "def metricasregresion(ytest, predic ):\n",
        "  print ('max error:',max_error(ytest, predic))\n",
        "  print ('MAE error:',mean_absolute_error(ytest, predic))\n",
        "  print ('MSE error:',mean_squared_error(ytest, predic))\n",
        "  print ('RMSE error:',mean_squared_error(ytest, predic, squared=False))\n",
        "  print ('RSS error:', mean_squared_error(ytest, predic)*len(predic))\n",
        "  print ('R2 Score:', r2_score(ytest, predic))\n",
        "\n",
        "def validacioncruzada(clf, X_test, ypredic, divisiones):\n",
        "  print(\"Validación cruzada. Evaluación por cada división: \", \n",
        "        cross_val_score(clf, X_test, ypredic, cv=divisiones))\n",
        "  print(\"Evaluación media:\", cross_val_score(clf,  X_test, ypredic, cv=divisiones).mean())\n",
        "\n",
        "def mostrarresultados(ytest, ypredict, titulo, LABELS):\n",
        "  conf_matrix = confusion_matrix(ytest, ypredict)\n",
        "  plt.figure(figsize=(6, 4))\n",
        "  sns.heatmap(conf_matrix, xticklabels=LABELS, yticklabels=LABELS, annot=True, fmt=\"d\")\n",
        "  titulo=\"Matriz de confusión.\", titulo\n",
        "  plt.title(titulo)\n",
        "  plt.ylabel('Clase verdadera')\n",
        "  plt.xlabel('Clase Predicha')\n",
        "  plt.show()\n",
        "  print (classification_report(ytest, ypredict))\n"
      ]
    },
    {
      "cell_type": "code",
      "execution_count": null,
      "metadata": {
        "id": "p8HxPsNuqYRm"
      },
      "outputs": [],
      "source": [
        "X, y = load_iris(return_X_y=True)\n",
        "X1, y1 = load_boston(return_X_y=True)\n",
        "Xtrain, Xtest, ytrain, ytest = train_test_split(X, y, random_state=0)\n",
        "Xtrain1, Xtest1, ytrain1, ytest1 = train_test_split(X1, y1, random_state=0)"
      ]
    },
    {
      "cell_type": "code",
      "execution_count": null,
      "metadata": {
        "colab": {
          "base_uri": "https://localhost:8080/"
        },
        "id": "ruKkgaSNsmi5",
        "outputId": "101cbe25-0f64-4d16-e841-401c6a538fec"
      },
      "outputs": [
        {
          "output_type": "stream",
          "name": "stdout",
          "text": [
            "Índice de los vectores: [ 23  24  41  70  77  83  98 106 126 129 133 138]\n",
            "Vectores de soporte: [[5.1 3.3 1.7 0.5]\n",
            " [4.8 3.4 1.9 0.2]\n",
            " [4.5 2.3 1.3 0.3]\n",
            " [5.9 3.2 4.8 1.8]\n",
            " [6.7 3.  5.  1.7]\n",
            " [6.  2.7 5.1 1.6]\n",
            " [5.1 2.5 3.  1.1]\n",
            " [4.9 2.5 4.5 1.7]\n",
            " [6.2 2.8 4.8 1.8]\n",
            " [7.2 3.  5.8 1.6]\n",
            " [6.3 2.8 5.1 1.5]\n",
            " [6.  3.  4.8 1.8]]\n",
            "Número de vectores por clase: [3 4 5]\n",
            "Etiquetas de las clases: [0 1 2]\n"
          ]
        }
      ],
      "source": [
        "#IRIS model 1\n",
        "model1 = SVC(kernel='linear', C=1E10)\n",
        "model1.fit(X, y)\n",
        "print (\"Índice de los vectores:\",model1.support_)\n",
        "print (\"Vectores de soporte:\",model1.support_vectors_)\n",
        "print (\"Número de vectores por clase:\",model1.n_support_)\n",
        "print (\"Etiquetas de las clases:\",model1.classes_)\n"
      ]
    },
    {
      "cell_type": "code",
      "execution_count": null,
      "metadata": {
        "colab": {
          "base_uri": "https://localhost:8080/",
          "height": 503
        },
        "id": "Jg8YU-uAtmNx",
        "outputId": "4c5daf9f-b449-46d6-e054-1a1ecb823d59"
      },
      "outputs": [
        {
          "output_type": "display_data",
          "data": {
            "text/plain": [
              "<Figure size 432x288 with 2 Axes>"
            ],
            "image/png": "[encoded data removed]"
          },
          "metadata": {
            "needs_background": "light"
          }
        },
        {
          "output_type": "stream",
          "name": "stdout",
          "text": [
            "              precision    recall  f1-score   support\n",
            "\n",
            "           0       1.00      1.00      1.00        13\n",
            "           1       1.00      0.94      0.97        16\n",
            "           2       0.90      1.00      0.95         9\n",
            "\n",
            "    accuracy                           0.97        38\n",
            "   macro avg       0.97      0.98      0.97        38\n",
            "weighted avg       0.98      0.97      0.97        38\n",
            "\n",
            "Validación cruzada. Evaluación por cada división:  [1. 1. 1.]\n",
            "Evaluación media: 1.0\n"
          ]
        }
      ],
      "source": [
        "ypred1 = model1.predict(Xtest)\n",
        "LABELS=model1.classes_\n",
        "titulo=\"Iris\"\n",
        "mostrarresultados(ytest, ypred1, titulo, LABELS)\n",
        "validacioncruzada(model1, Xtest, ypred1, 3)"
      ]
    },
    {
      "cell_type": "code",
      "execution_count": null,
      "metadata": {
        "colab": {
          "base_uri": "https://localhost:8080/"
        },
        "id": "yKOu57b7vNeq",
        "outputId": "fb819667-587e-46ae-bb21-9be4008fe14e"
      },
      "outputs": [
        {
          "output_type": "stream",
          "name": "stdout",
          "text": [
            "Índice de los vectores: [  0   1   2   3   4   5   6   7   8   9  10  11  12  13  14  15  17  18\n",
            "  19  20  21  22  23  24  25  26  27  28  29  30  31  32  33  34  35  36\n",
            "  37  38  39  40  41  42  44  45  46  47  48  49  50  51  52  53  54  55\n",
            "  56  57  58  59  60  61  62  63  64  65  66  67  68  69  70  71  72  74\n",
            "  75  76  78  79  80  81  82  83  85  86  87  88  89  90  91  92  93  94\n",
            "  95  96  97  98  99 100 101 102 103 104 105 106 108 109 110 111 112 113\n",
            " 114 115 116 117 118 119 120 121 122 123 124 125 126 127 128 129 131 132\n",
            " 133 134 135 136 137 138 139 140 141 142 143 144 145 146 147 148 149 150\n",
            " 151 152 153 154 155 156 157 158 159 160 161 162 163 164 165 166 167 168\n",
            " 169 170 171 172 173 175 176 177 178 179 180 181 182 183 184 185 186 187\n",
            " 188 189 190 191 192 193 194 195 196 197 198 199 200 201 202 203 204 205\n",
            " 206 207 208 209 210 211 212 213 214 215 217 218 219 220 222 223 224 225\n",
            " 226 227 228 229 230 231 232 233 234 235 236 237 240 241 242 243 244 245\n",
            " 246 247 248 249 250 251 252 253 254 255 256 257 258 259 260 261 262 263\n",
            " 264 265 266 267 268 269 270 273 274 275 276 277 278 279 280 281 282 283\n",
            " 284 285 286 287 288 289 290 291 292 293 294 295 296 297 298 299 300 301\n",
            " 302 303 304 305 306 307 308 309 310 311 312 313 314 315 316 317 318 319\n",
            " 320 322 323 324 325 326 327 328 329 330 331 332 333 334 335 336 337 338\n",
            " 339 340 341 342 343 344 345 346 347 349 351 352 353 354 355 356 357 358\n",
            " 359 360 361 362 363 364 365 366 367 368 369 370 371 372 373 374 375 376\n",
            " 377 378 379 380 381 382 383 384 385 386 387 388 389 390 391 392 393 394\n",
            " 395 396 397 398 399 400 401 402 403 404 405 406 407 408 409 410 411 412\n",
            " 413 414 415 416 417 418 419 420 421 422 424 425 426 427 428 429 430 431\n",
            " 432 433 434 436 437 438 439 440 441 442 443 444 445 447 448 449 450 451\n",
            " 452 453 454 455 456 459 460 461 462 463 464 465 466 467 468 469 470 471\n",
            " 472 473 474 475 476 477 478 479 480 481 482 483 484 485 486 487 488 489\n",
            " 490 491 492 493 494 495 496 497 498 499 500 501 502 503 504 505]\n",
            "Vectores de soporte: [[6.3200e-03 1.8000e+01 2.3100e+00 ... 1.5300e+01 3.9690e+02 4.9800e+00]\n",
            " [2.7310e-02 0.0000e+00 7.0700e+00 ... 1.7800e+01 3.9690e+02 9.1400e+00]\n",
            " [2.7290e-02 0.0000e+00 7.0700e+00 ... 1.7800e+01 3.9283e+02 4.0300e+00]\n",
            " ...\n",
            " [6.0760e-02 0.0000e+00 1.1930e+01 ... 2.1000e+01 3.9690e+02 5.6400e+00]\n",
            " [1.0959e-01 0.0000e+00 1.1930e+01 ... 2.1000e+01 3.9345e+02 6.4800e+00]\n",
            " [4.7410e-02 0.0000e+00 1.1930e+01 ... 2.1000e+01 3.9690e+02 7.8800e+00]]\n",
            "Número de vectores se soporte: [484]\n"
          ]
        }
      ],
      "source": [
        "#Boston model 1\n",
        "model2 = SVR( C=1.0, epsilon=0.2)\n",
        "model2.fit(X1, y1)\n",
        "print (\"Índice de los vectores:\",model2.support_)\n",
        "print (\"Vectores de soporte:\",model2.support_vectors_)\n",
        "print (\"Número de vectores se soporte:\",model2.n_support_)\n"
      ]
    },
    {
      "cell_type": "code",
      "source": [
        "ypred2 = model2.predict(Xtest1)\n",
        "metricasregresion(ytest1, ypred2 )\n",
        "validacioncruzada(model2, Xtest1, ypred2, 5)"
      ],
      "metadata": {
        "colab": {
          "base_uri": "https://localhost:8080/"
        },
        "id": "h-Vw76k8Nrpv",
        "outputId": "a1a9f965-943b-43fe-9b00-fc777f8d3333"
      },
      "execution_count": null,
      "outputs": [
        {
          "output_type": "stream",
          "name": "stdout",
          "text": [
            "max error: 34.479291102834104\n",
            "MAE error: 5.24807900494413\n",
            "MSE error: 74.2431752855803\n",
            "RMSE error: 8.616447950610524\n",
            "RSS error: 9428.883261268698\n",
            "R2 Score: 0.09125985316317375\n",
            "Validación cruzada. Evaluación por cada división:  [0.9892537  0.98851553 0.98005442 0.98633365 0.98586578]\n",
            "Evaluación media: 0.9860046178804595\n"
          ]
        }
      ]
    },
    {
      "cell_type": "code",
      "execution_count": null,
      "metadata": {
        "id": "D4Z0HWSltic9"
      },
      "outputs": [],
      "source": []
    }
  ],
  "metadata": {
    "colab": {
      "provenance": []
    },
    "kernelspec": {
      "display_name": "Python 3",
      "name": "python3"
    },
    "language_info": {
      "name": "python"
    }
  },
  "nbformat": 4,
  "nbformat_minor": 0
}